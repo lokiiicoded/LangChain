{
 "cells": [
  {
   "cell_type": "code",
   "execution_count": 2,
   "id": "e27082b7",
   "metadata": {},
   "outputs": [
    {
     "name": "stdout",
     "output_type": "stream",
     "text": [
      "Note: you may need to restart the kernel to use updated packages.\n"
     ]
    },
    {
     "name": "stderr",
     "output_type": "stream",
     "text": [
      "ERROR: Could not find a version that satisfies the requirement beutifulsoup4 (from versions: none)\n",
      "ERROR: No matching distribution found for beutifulsoup4\n"
     ]
    }
   ],
   "source": [
    "pip install beutifulsoup4 bs4 requests"
   ]
  },
  {
   "cell_type": "code",
   "execution_count": null,
   "id": "ed8cd197",
   "metadata": {},
   "outputs": [
    {
     "name": "stdout",
     "output_type": "stream",
     "text": [
      "🌍 Website Summarizer (Type 'quit' to exit)\n",
      "\n",
      "🔎 Summary:\n",
      " Simreka is a company using AI to help manufacturers develop new products faster and cheaper.  Their software simulates the entire process, from initial ideas to manufacturing, reducing the need for costly and time-consuming lab experiments.  This AI-powered platform helps create sustainable and innovative products across various industries, including chemicals, materials, and cosmetics.\n",
      "👋 Goodbye!\n"
     ]
    }
   ],
   "source": [
    "# === Imports ===\n",
    "import requests\n",
    "from bs4 import BeautifulSoup\n",
    "from langchain_google_genai import ChatGoogleGenerativeAI\n",
    "import os\n",
    "from dotenv import load_dotenv\n",
    "\n",
    "# === Load API Key ===\n",
    "load_dotenv()\n",
    "api_key = os.getenv(\"API_KEY\")\n",
    "\n",
    "# === Initialize Gemini ===\n",
    "llm = ChatGoogleGenerativeAI(\n",
    "    model=\"gemini-1.5-flash\",\n",
    "    google_api_key=api_key,\n",
    "    temperature=0.3\n",
    ")\n",
    "\n",
    "def fetch_webpage(url):\n",
    "    \"\"\"Fetch webpage text using requests + BeautifulSoup\"\"\"\n",
    "    try:\n",
    "        response = requests.get(url, timeout=10)\n",
    "        response.raise_for_status()\n",
    "        soup = BeautifulSoup(response.text, \"html.parser\")\n",
    "\n",
    "        # Extract visible text\n",
    "        paragraphs = [p.get_text() for p in soup.find_all(\"p\")]\n",
    "        return \" \".join(paragraphs)[:5000]  # limit size for safety\n",
    "    except Exception as e:\n",
    "        return f\"Error fetching webpage: {e}\"\n",
    "\n",
    "print(\"Website Summarizer (Type 'quit' to exit)\")\n",
    "while True:\n",
    "    url = input(\"\\nEnter a website URL: \")\n",
    "    if url.lower() == \"quit\":\n",
    "        print(\"Goodbye!\")\n",
    "        break\n",
    "    \n",
    "    webpage_text = fetch_webpage(url)\n",
    "    if webpage_text.startswith(\"Error\"):\n",
    "        print(webpage_text)\n",
    "        continue\n",
    "    \n",
    "    # Ask Gemini to summarize\n",
    "    prompt = f\"Summarize the following webpage content in simple terms:\\n\\n{webpage_text}\"\n",
    "    summary = llm.invoke(prompt)\n",
    "    \n",
    "    print(\"\\nSummary:\\n\", summary.content)\n"
   ]
  },
  {
   "cell_type": "code",
   "execution_count": null,
   "id": "eee6b520",
   "metadata": {},
   "outputs": [],
   "source": []
  }
 ],
 "metadata": {
  "kernelspec": {
   "display_name": "base",
   "language": "python",
   "name": "python3"
  },
  "language_info": {
   "codemirror_mode": {
    "name": "ipython",
    "version": 3
   },
   "file_extension": ".py",
   "mimetype": "text/x-python",
   "name": "python",
   "nbconvert_exporter": "python",
   "pygments_lexer": "ipython3",
   "version": "3.13.5"
  }
 },
 "nbformat": 4,
 "nbformat_minor": 5
}
