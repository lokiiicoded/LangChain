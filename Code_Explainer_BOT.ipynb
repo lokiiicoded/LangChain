{
 "cells": [
  {
   "cell_type": "code",
   "execution_count": null,
   "id": "c3c3ba82",
   "metadata": {},
   "outputs": [],
   "source": [
    "# === Imports ===\n",
    "from langchain_google_genai import ChatGoogleGenerativeAI\n",
    "import os\n",
    "from dotenv import load_dotenv\n",
    "\n",
    "# === Load API Key ===\n",
    "load_dotenv()\n",
    "api_key = os.getenv(\"API_KEY\")\n",
    "\n",
    "# === Initialize Gemini ===\n",
    "llm = ChatGoogleGenerativeAI(\n",
    "    model=\"gemini-1.5-flash\",\n",
    "    google_api_key=api_key,\n",
    "    temperature=0.2\n",
    ")\n",
    "\n",
    "print(\"🧑‍💻 Code Explainer Bot (Type 'quit' to exit)\")\n",
    "\n",
    "while True:\n",
    "    code = input(\"\\nPaste your Python code:\\n\")\n",
    "    if code.lower() == \"quit\":\n",
    "        print(\"👋 Goodbye!\")\n",
    "        break\n",
    "\n",
    "    # Ask Gemini to explain code line by line\n",
    "    prompt = f\"Explain the following Python code line by line in simple terms:\\n\\n```python\\n{code}\\n```\"\n",
    "    response = llm.invoke(prompt)\n",
    "\n",
    "    print(\"\\n📖 Explanation:\\n\", response.content)\n"
   ]
  }
 ],
 "metadata": {
  "kernelspec": {
   "display_name": "base",
   "language": "python",
   "name": "python3"
  },
  "language_info": {
   "name": "python",
   "version": "3.13.5"
  }
 },
 "nbformat": 4,
 "nbformat_minor": 5
}
