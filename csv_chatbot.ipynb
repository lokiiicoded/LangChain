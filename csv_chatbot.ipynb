{
 "cells": [
  {
   "cell_type": "code",
   "execution_count": 1,
   "id": "e90cc6bb",
   "metadata": {},
   "outputs": [
    {
     "name": "stderr",
     "output_type": "stream",
     "text": [
      "C:\\Users\\lokes\\AppData\\Local\\Temp\\ipykernel_4520\\2719684592.py:41: LangChainDeprecationWarning: Please see the migration guide at: https://python.langchain.com/docs/versions/migrating_memory/\n",
      "  memory = ConversationBufferMemory(memory_key=\"chat_history\", return_messages=True, output_key=\"answer\")\n"
     ]
    },
    {
     "name": "stdout",
     "output_type": "stream",
     "text": [
      "CSV Q&A Bot (Type 'quit' to exit)\n",
      "Gemini: John Seo, Ki Gee, Neena Kochhar, John Chen\n",
      "Gemini: Steven King had the highest salary at $24000.\n",
      "Goodbye!\n"
     ]
    }
   ],
   "source": [
    "# === Imports ===\n",
    "from langchain_google_genai import ChatGoogleGenerativeAI, GoogleGenerativeAIEmbeddings\n",
    "from langchain.vectorstores import FAISS\n",
    "from langchain.chains import ConversationalRetrievalChain\n",
    "from langchain.memory import ConversationBufferMemory\n",
    "from langchain.document_loaders import CSVLoader\n",
    "from langchain.text_splitter import CharacterTextSplitter\n",
    "import os\n",
    "from dotenv import load_dotenv\n",
    "\n",
    "# === Load API Key ===\n",
    "load_dotenv()\n",
    "api_key = os.getenv(\"API_KEY\")\n",
    "\n",
    "# === Initialize Gemini ===\n",
    "llm = ChatGoogleGenerativeAI(\n",
    "    model=\"gemini-1.5-flash\",\n",
    "    google_api_key=api_key,\n",
    "    temperature=0.3\n",
    ")\n",
    "\n",
    "# === Embeddings ===\n",
    "embeddings = GoogleGenerativeAIEmbeddings(\n",
    "    model=\"models/embedding-001\",\n",
    "    google_api_key=api_key\n",
    ")\n",
    "\n",
    "# === Load CSV ===\n",
    "csv_path = \"employees.csv\"   # 👈 replace with your CSV file\n",
    "loader = CSVLoader(file_path=csv_path, encoding=\"utf-8\")\n",
    "data = loader.load()\n",
    "\n",
    "# === Split CSV rows into chunks ===\n",
    "splitter = CharacterTextSplitter(chunk_size=500, chunk_overlap=50)\n",
    "docs = splitter.split_documents(data)\n",
    "\n",
    "# === Create Vector Store ===\n",
    "vectorstore = FAISS.from_documents(docs, embeddings)\n",
    "\n",
    "# === Conversational Retrieval Chain ===\n",
    "memory = ConversationBufferMemory(memory_key=\"chat_history\", return_messages=True, output_key=\"answer\")\n",
    "qa_chain = ConversationalRetrievalChain.from_llm(\n",
    "    llm=llm,\n",
    "    retriever=vectorstore.as_retriever(),\n",
    "    memory=memory,\n",
    "    return_source_documents=False\n",
    ")\n",
    "\n",
    "# === Chat with CSV ===\n",
    "print(\"CSV Q&A Bot (Type 'quit' to exit)\")\n",
    "while True:\n",
    "    query = input(\"\\nYou: \")\n",
    "    if query.lower() == \"quit\":\n",
    "        print(\"Goodbye!\")\n",
    "        break\n",
    "    \n",
    "    result = qa_chain.invoke({\"question\": query})\n",
    "    print(\"Gemini:\", result[\"answer\"])\n"
   ]
  },
  {
   "cell_type": "code",
   "execution_count": null,
   "id": "6571b180",
   "metadata": {},
   "outputs": [],
   "source": []
  }
 ],
 "metadata": {
  "kernelspec": {
   "display_name": "base",
   "language": "python",
   "name": "python3"
  },
  "language_info": {
   "codemirror_mode": {
    "name": "ipython",
    "version": 3
   },
   "file_extension": ".py",
   "mimetype": "text/x-python",
   "name": "python",
   "nbconvert_exporter": "python",
   "pygments_lexer": "ipython3",
   "version": "3.13.5"
  }
 },
 "nbformat": 4,
 "nbformat_minor": 5
}
